{
 "cells": [
  {
   "cell_type": "markdown",
   "metadata": {
    "id": "S6wkO7VAZi8J"
   },
   "source": [
    "DATA-SCIENCE -Activity monitoring - Building a complete pipeline for sensor-based activity recognition \n"
   ]
  },
  {
   "cell_type": "markdown",
   "metadata": {},
   "source": [
    "TEAM MEMBERS--BITF20M013-MUHAMMAD WAQAS-UD-DIN, BITF20M032-JAMSHAID MEHMOOD, BITF20M018-KABEER ALI , BITF20M031-MUHAMMAD HAMZA FAROOQI"
   ]
  },
  {
   "cell_type": "markdown",
   "metadata": {},
   "source": [
    "Step: Import libraries and Loading the Data (Training and Testing)"
   ]
  },
  {
   "cell_type": "code",
   "execution_count": 85,
   "metadata": {},
   "outputs": [],
   "source": [
    "import numpy as np\n",
    "from sklearn.svm import SVC\n",
    "from sklearn.metrics import f1_score, accuracy_score, confusion_matrix\n",
    "path = \"C:\\\\Users\\\\lenovo\\\\DS_PROJECT\\\\\"\n",
    "train_accelerometer = np.load(path+\"training\\\\trainAccelerometer.npy\")\n",
    "train_msgyroscope = np.load(path+\"training\\\\trainMSGyroscope.npy\")\n",
    "train_msaccelerometer = np.load(path+\"training\\\\trainMSAccelerometer.npy\")\n",
    "train_magnetometer = np.load(path+\"training\\\\trainMagnetometer.npy\")\n",
    "train_linearacceleration = np.load(path+\"training\\\\trainLinearAcceleration.npy\")\n",
    "train_jinsgyroscope = np.load(path+\"training\\\\trainJinsGyroscope.npy\")\n",
    "train_jinsaccelerometer = np.load(path+\"training\\\\trainJinsAccelerometer.npy\")\n",
    "train_gyroscope = np.load(path+\"training\\\\trainGyroscope.npy\")\n",
    "train_gravity = np.load(path+\"training\\\\trainGravity.npy\")\n",
    "train_labels = np.load(path+\"training\\\\trainLabels.npy\")"
   ]
  },
  {
   "cell_type": "code",
   "execution_count": 35,
   "metadata": {
    "id": "uourmLggEuVQ"
   },
   "outputs": [],
   "source": [
    "path = \"C:\\\\Users\\\\lenovo\\\\DS_PROJECT\\\\\"\n",
    "test_accelerometer = np.load(path+\"testing/testAccelerometer.npy\")\n",
    "test_msgyroscope = np.load(path+\"testing/testMSGyroscope.npy\")\n",
    "test_msaccelerometer = np.load(path+\"testing/testMSAccelerometer.npy\")\n",
    "test_magnetometer = np.load(path+\"testing/testMagnetometer.npy\")\n",
    "test_linearacceleration = np.load(path+\"testing/testLinearAcceleration.npy\")\n",
    "test_jinsgyroscope = np.load(path+\"testing/testJinsGyroscope.npy\")\n",
    "test_jinsaccelerometer = np.load(path+\"testing/testJinsAccelerometer.npy\")\n",
    "test_gyroscope = np.load(path+\"testing/testGyroscope.npy\")\n",
    "test_gravity = np.load(path+\"testing/testGravity.npy\")\n",
    "test_labels = np.load(path+\"testing/testLabels.npy\")"
   ]
  },
  {
   "cell_type": "markdown",
   "metadata": {},
   "source": [
    "PRINTING THE LABLES."
   ]
  },
  {
   "cell_type": "code",
   "execution_count": 40,
   "metadata": {
    "colab": {
     "base_uri": "https://localhost:8080/"
    },
    "id": "bKT9Q6odcOJI",
    "outputId": "0423346e-86ed-4bdc-81ff-4382464425ef"
   },
   "outputs": [
    {
     "name": "stdout",
     "output_type": "stream",
     "text": [
      "(2284,)\n",
      "(2284, 800, 3)\n",
      "(2284, 80, 3)\n",
      "(2284, 80, 3)\n",
      "(2284, 800, 3)\n",
      "(2284, 268, 3)\n",
      "(2284, 268, 3)\n",
      "(2284, 800, 3)\n",
      "(2284, 200, 3)\n",
      "(2284, 800, 3)\n",
      "(2288,)\n",
      "(2288, 800, 3)\n",
      "(2288, 80, 3)\n",
      "(2288, 80, 3)\n",
      "(2288, 800, 3)\n",
      "(2288, 268, 3)\n",
      "(2288, 268, 3)\n",
      "(2288, 800, 3)\n",
      "(2288, 200, 3)\n",
      "(2288, 800, 3)\n"
     ]
    }
   ],
   "source": [
    "#Training\n",
    "print(train_labels.shape)\n",
    "print(train_linearacceleration.shape)\n",
    "print(train_jinsgyroscope.shape)\n",
    "print(train_jinsaccelerometer.shape)\n",
    "print(train_gravity.shape)\n",
    "print(train_msaccelerometer.shape)\n",
    "print(train_msgyroscope.shape)\n",
    "print(train_gyroscope.shape)\n",
    "print(train_magnetometer.shape)\n",
    "print(train_accelerometer.shape)\n",
    "#TESTING\n",
    "print(test_labels.shape)\n",
    "print(test_linearacceleration.shape)\n",
    "print(test_jinsgyroscope.shape)\n",
    "print(test_jinsaccelerometer.shape)\n",
    "print(test_gravity.shape)\n",
    "print(test_msaccelerometer.shape)\n",
    "print(test_msgyroscope.shape)\n",
    "print(test_gyroscope.shape)\n",
    "print(test_magnetometer.shape)\n",
    "print(test_accelerometer.shape)"
   ]
  },
  {
   "cell_type": "markdown",
   "metadata": {},
   "source": [
    "Printing The Lables from Testing and Training Data"
   ]
  },
  {
   "cell_type": "code",
   "execution_count": 41,
   "metadata": {
    "colab": {
     "base_uri": "https://localhost:8080/"
    },
    "id": "VY3TKz7McOMP",
    "outputId": "5b022dba-d51f-4894-e2a0-bdd875dbd22e"
   },
   "outputs": [
    {
     "name": "stdout",
     "output_type": "stream",
     "text": [
      "54\n",
      "54\n"
     ]
    }
   ],
   "source": [
    "print(max(train_labels))   \n",
    "print(max(test_labels))   "
   ]
  },
  {
   "cell_type": "markdown",
   "metadata": {},
   "source": [
    "OBSERVING THE LABLES BY DRWAING SHAPES:"
   ]
  },
  {
   "cell_type": "code",
   "execution_count": 42,
   "metadata": {
    "colab": {
     "base_uri": "https://localhost:8080/"
    },
    "id": "IAN21bfJcOPn",
    "outputId": "232b73e5-5b02-4f5d-e7b9-f5e215b9760b"
   },
   "outputs": [
    {
     "name": "stdout",
     "output_type": "stream",
     "text": [
      "(41,)\n",
      "(42,)\n",
      "(43,)\n",
      "(42,)\n"
     ]
    }
   ],
   "source": [
    "train_labels_0 = train_labels[train_labels==0]\n",
    "print(train_labels_0.shape)\n",
    "\n",
    "train_labels_1 = train_labels[train_labels==1]\n",
    "print(train_labels_1.shape)\n",
    "\n",
    "train_labels_2 = train_labels[train_labels==2]\n",
    "print(train_labels_2.shape)\n",
    "\n",
    "train_labels_3 = train_labels[train_labels==3]\n",
    "print(train_labels_3.shape)\n"
   ]
  },
  {
   "cell_type": "markdown",
   "metadata": {},
   "source": [
    "STEP: PERFORMING THE NORMALIZATION"
   ]
  },
  {
   "cell_type": "code",
   "execution_count": 43,
   "metadata": {
    "id": "4ip9LD4fcOSg"
   },
   "outputs": [],
   "source": [
    "def normalize(data_set):\n",
    "    data_set = data_set.astype('float32')\n",
    "    for k in range(data_set.shape[0]):\n",
    "      for i in range(3):\n",
    "        mean = np.mean(data_set[k,:,i])\n",
    "        std = np.std(data_set[k,:,i])\n",
    "        data_set[k,:,i] = (data_set[k,:,i] - mean) / (std + 1e-7)\n",
    "    return data_set"
   ]
  },
  {
   "cell_type": "code",
   "execution_count": 44,
   "metadata": {
    "colab": {
     "base_uri": "https://localhost:8080/"
    },
    "id": "YqO_dBe3d_E1",
    "outputId": "3c63d544-a801-45b2-ff09-b16510af24d6"
   },
   "outputs": [
    {
     "name": "stdout",
     "output_type": "stream",
     "text": [
      "[[[ 1.55487812e+00  2.80487823e+00  2.50000000e+00]\n",
      "  [ 1.58536589e+00  2.83536601e+00  2.59146357e+00]\n",
      "  [ 1.73780489e+00  3.07926846e+00  2.46951222e+00]\n",
      "  ...\n",
      "  [ 5.61280518e+01 -3.99390244e+00  1.49695129e+01]\n",
      "  [ 4.80182953e+01 -7.40853691e+00  3.09451218e+01]\n",
      "  [ 3.96341476e+01 -9.54268360e+00  4.79878044e+01]]\n",
      "\n",
      " [[ 7.01219559e-01  1.15853667e+00 -1.06707323e+00]\n",
      "  [ 1.00609756e+00  1.28048778e+00 -1.43292689e+00]\n",
      "  [ 9.45122004e-01  1.31097567e+00 -1.49390244e+00]\n",
      "  ...\n",
      "  [ 3.53658562e+01  2.61280499e+01  1.17926834e+02]\n",
      "  [ 2.72865868e+01  2.63109760e+01  1.16554878e+02]\n",
      "  [ 8.53658581e+00  2.63109760e+01  1.13262199e+02]]\n",
      "\n",
      " [[ 8.84146333e-01  5.48780501e-01  3.04878056e-02]\n",
      "  [ 9.14634168e-01  7.62195110e-01 -3.04878056e-02]\n",
      "  [ 9.45122004e-01  7.92682946e-01 -3.04878056e-02]\n",
      "  ...\n",
      "  [-2.32317085e+01  4.23780489e+00 -3.90243912e+00]\n",
      "  [-4.93902445e+00  5.70121956e+00  7.31707335e-01]\n",
      "  [ 2.24390259e+01  9.66463470e+00  3.90243912e+00]]\n",
      "\n",
      " ...\n",
      "\n",
      " [[ 3.80182953e+01  1.98170733e+00  3.91463432e+01]\n",
      "  [ 3.52134171e+01  1.25000000e+00  3.80792694e+01]\n",
      "  [ 3.37195129e+01  1.09756100e+00  3.67682953e+01]\n",
      "  ...\n",
      "  [-1.03323174e+02 -3.36585388e+01 -4.21951218e+01]\n",
      "  [-1.05640244e+02 -3.34146347e+01 -4.61280518e+01]\n",
      "  [-1.14786591e+02 -3.20121956e+01 -5.24390259e+01]]\n",
      "\n",
      " [[-6.70731723e-01  3.35365862e-01  1.21951222e-01]\n",
      "  [-7.01219559e-01  9.45122004e-01 -9.14634168e-02]\n",
      "  [-1.21951222e-01  1.21951222e+00 -9.14634168e-02]\n",
      "  ...\n",
      "  [ 6.52439022e+00 -8.56707382e+00 -7.95731735e+00]\n",
      "  [ 3.44512200e+00 -8.62804890e+00 -1.06402445e+01]\n",
      "  [ 2.13414639e-01 -8.01829243e+00 -1.30792685e+01]]\n",
      "\n",
      " [[-1.41158543e+01 -5.48780489e+00 -3.14024401e+00]\n",
      "  [-1.35365858e+01 -4.45121956e+00 -2.95731711e+00]\n",
      "  [-5.36585379e+00 -1.89024401e+00 -3.29268312e+00]\n",
      "  ...\n",
      "  [ 3.65853667e-01 -8.78048801e+00 -3.04878056e-02]\n",
      "  [-4.87804890e-01 -2.46036587e+01  8.41463470e+00]\n",
      "  [-4.45121956e+00 -1.71036587e+01  7.80487823e+00]]]\n",
      "(2284, 268, 3)\n"
     ]
    }
   ],
   "source": [
    "#Lets obsevsrve the Traing Data Files like one of these Files is.\n",
    "print(train_msgyroscope)\n",
    "print(train_msgyroscope.shape)"
   ]
  },
  {
   "cell_type": "markdown",
   "metadata": {},
   "source": [
    "OPTIONAL STEP: PRE-PROCESSING TECHNIQUE (NORMALIZATION)"
   ]
  },
  {
   "cell_type": "code",
   "execution_count": 45,
   "metadata": {
    "id": "hFEjVai7X2lR"
   },
   "outputs": [],
   "source": [
    "#APPLYING NORMALIZATION TO TRAINING AND TEST DATA SET\n",
    "\n",
    "#TRAINING\n",
    "\n",
    "norm_train_Acc = normalize(train_accelerometer)\n",
    "norm_train_Grav = normalize(train_gravity)\n",
    "norm_train_Gyro = normalize(train_gyroscope)\n",
    "norm_train_Jins_Acc = normalize(train_jinsaccelerometer)\n",
    "norm_train_Jins_Gyro = normalize(train_jinsgyroscope)\n",
    "norm_train_Linear_Acc = normalize(train_linearacceleration)\n",
    "norm_train_Mag = normalize(train_magnetometer)\n",
    "norm_train_MS_Acc = normalize(train_msaccelerometer)\n",
    "norm_train_MS_Gyro = normalize(train_msgyroscope)\n",
    "\n",
    "#TESTING\n",
    "norm_test_Acc = normalize(test_accelerometer)\n",
    "norm_test_Grav = normalize(test_gravity)\n",
    "norm_test_Gyro = normalize(test_gyroscope)\n",
    "norm_test_Jins_Acc = normalize(test_jinsaccelerometer)\n",
    "norm_test_Jins_Gyro = normalize(test_jinsgyroscope)\n",
    "norm_test_Linear_Acc = normalize(test_linearacceleration)\n",
    "norm_test_Mag = normalize(test_magnetometer)\n",
    "norm_test_MS_Acc = normalize(test_msaccelerometer)\n",
    "norm_test_MS_Gyro = normalize(test_msgyroscope)"
   ]
  },
  {
   "cell_type": "markdown",
   "metadata": {},
   "source": [
    "STEP: FEATURE EXTRACTION"
   ]
  },
  {
   "cell_type": "code",
   "execution_count": 46,
   "metadata": {
    "id": "FlEeRdqEcDL_"
   },
   "outputs": [],
   "source": [
    "#2284x18x3 => 87x30-----IN 2D ARRAY\n",
    "\n",
    "def extractFeatures(data_set):\n",
    "    featuredArray = np.zeros((data_set.shape[0], 12, 3))\n",
    "    data_set = data_set.astype('float32')\n",
    "    for k in range(data_set.shape[0]):\n",
    "      for i in range(3):\n",
    "        mean = np.mean(data_set[k,:,i])           \n",
    "        std = np.std(data_set[k,:,i])              \n",
    "        min= np.min(data_set[k,:,i])\n",
    "        max= np.max(data_set[k,:,i])\n",
    "        channel_range = max-min\n",
    "        median = np.median(data_set[k,:,i])\n",
    "        mode, count = np.unique(data_set[k,:,i], return_counts=True)\n",
    "        first_mode = mode[np.argmax(count)]\n",
    "        variance = np.var(data_set[k,:,i])\n",
    "        skewness = float(np.mean((data_set[k,:,i] - np.mean(data_set[k,:,i]))**3)/((np.std(data_set[k,:,i]) + 1e-7)**3))\n",
    "        kurt = float(np.mean((data_set[k,:,i] - np.mean(data_set[k,:,i]))**4)/((np.std(data_set[k,:,i])**4)+ 1e-7) - 3)\n",
    "        energy = np.sum(data_set[k,:,i]**2)\n",
    "        dissimilarity = np.mean(np.abs(data_set[k,:,i] - mean))\n",
    "        featuredArray[k,:,i] = [mean,std,min,max,channel_range,median,first_mode,variance,skewness,kurt,energy,dissimilarity]\n",
    "    return featuredArray"
   ]
  },
  {
   "cell_type": "markdown",
   "metadata": {},
   "source": [
    "EXTRACING FEATURES FOR BOTH TRAINING AND TESTING FILES SEPRATELY."
   ]
  },
  {
   "cell_type": "code",
   "execution_count": 47,
   "metadata": {
    "id": "IuJpSwh3cOY0"
   },
   "outputs": [],
   "source": [
    "#TRAINING\n",
    "features_train_Acc = extractFeatures(norm_train_Acc)\n",
    "features_train_Grav = extractFeatures(norm_train_Grav)\n",
    "features_train_Gyro = extractFeatures(norm_train_Gyro)\n",
    "features_train_Jins_Acc = extractFeatures(norm_train_Jins_Acc)\n",
    "features_train_Jins_Gyro = extractFeatures(norm_train_Jins_Gyro)\n",
    "features_train_Linear_Acc = extractFeatures(norm_train_Linear_Acc)\n",
    "features_train_Mag = extractFeatures(norm_train_Mag)\n",
    "features_train_MS_Acc = extractFeatures(norm_train_MS_Acc)\n",
    "features_train_MS_Gyro = extractFeatures(norm_train_MS_Gyro)\n",
    "#TESTING\n",
    "features_test_Acc = extractFeatures(norm_test_Acc)\n",
    "features_test_Grav = extractFeatures(norm_test_Grav)\n",
    "features_test_Gyro = extractFeatures(norm_test_Gyro)\n",
    "features_test_Jins_Acc = extractFeatures(norm_test_Jins_Acc)\n",
    "features_test_Jins_Gyro = extractFeatures(norm_test_Jins_Gyro)\n",
    "features_test_Linear_Acc = extractFeatures(norm_test_Linear_Acc)\n",
    "features_test_Mag = extractFeatures(norm_test_Mag)\n",
    "features_test_MS_Acc = extractFeatures(norm_test_MS_Acc)\n",
    "features_test_MS_Gyro = extractFeatures(norm_test_MS_Gyro)"
   ]
  },
  {
   "cell_type": "code",
   "execution_count": 48,
   "metadata": {
    "colab": {
     "base_uri": "https://localhost:8080/"
    },
    "id": "qd2QCBqgcOb2",
    "outputId": "619a372d-fde4-4df5-8a4a-721ed119cd38"
   },
   "outputs": [
    {
     "name": "stdout",
     "output_type": "stream",
     "text": [
      "(2284, 12, 3)\n",
      "(2284, 12, 3)\n",
      "(2284, 12, 3)\n",
      "(2284, 12, 3)\n",
      "(2284, 12, 3)\n",
      "(2284, 12, 3)\n",
      "(2284, 12, 3)\n",
      "(2284, 12, 3)\n",
      "(2284, 12, 3)\n",
      "(2288, 12, 3)\n",
      "(2288, 12, 3)\n",
      "(2288, 12, 3)\n",
      "(2288, 12, 3)\n",
      "(2288, 12, 3)\n",
      "(2288, 12, 3)\n",
      "(2288, 12, 3)\n",
      "(2288, 12, 3)\n",
      "(2288, 12, 3)\n"
     ]
    }
   ],
   "source": [
    "print(features_train_Acc.shape)\n",
    "print(features_train_Grav.shape)\n",
    "print(features_train_Gyro.shape)\n",
    "print(features_train_Jins_Acc.shape)\n",
    "print(features_train_Jins_Gyro.shape)\n",
    "print(features_train_Linear_Acc.shape)\n",
    "print(features_train_MS_Acc.shape)\n",
    "print(features_train_Mag.shape)\n",
    "print(features_train_MS_Gyro.shape)\n",
    "\n",
    "print(features_test_Acc.shape)\n",
    "print(features_test_Grav.shape)\n",
    "print(features_test_Gyro.shape)\n",
    "print(features_test_Jins_Acc.shape)\n",
    "print(features_test_Jins_Gyro.shape)\n",
    "print(features_test_Linear_Acc.shape)\n",
    "print(features_test_MS_Acc.shape)\n",
    "print(features_test_Mag.shape)\n",
    "print(features_test_MS_Gyro.shape)"
   ]
  },
  {
   "cell_type": "code",
   "execution_count": 49,
   "metadata": {
    "colab": {
     "base_uri": "https://localhost:8080/"
    },
    "id": "744C0Yj51wyq",
    "outputId": "134c2c6d-bea4-4993-edbb-a074c7642a53"
   },
   "outputs": [
    {
     "name": "stdout",
     "output_type": "stream",
     "text": [
      "[[[-9.53674331e-08  1.35421749e-06 -5.72204577e-08]\n",
      "  [ 9.99999821e-01  9.99999404e-01  9.99999881e-01]\n",
      "  [-1.73748350e+00 -2.42434239e+00 -1.91934788e+00]\n",
      "  ...\n",
      "  [-1.21438656e+00 -6.06710451e-01 -1.05201922e+00]\n",
      "  [ 7.99999695e+02  7.99999084e+02  7.99999939e+02]\n",
      "  [ 8.54679644e-01  8.53903949e-01  8.66910100e-01]]\n",
      "\n",
      " [[-9.53674295e-09  1.43051147e-06  7.62939436e-08]\n",
      "  [ 9.99999821e-01  9.99999166e-01  9.99999821e-01]\n",
      "  [-2.29968333e+00 -2.64853668e+00 -2.01668215e+00]\n",
      "  ...\n",
      "  [-6.49768814e-01  2.24255988e-01 -1.02455792e+00]\n",
      "  [ 7.99999695e+02  7.99998718e+02  7.99999878e+02]\n",
      "  [ 8.17275286e-01  8.37260008e-01  8.71921241e-01]]\n",
      "\n",
      " [[ 7.62939436e-08  1.69754026e-06  2.82669062e-05]\n",
      "  [ 9.99999702e-01  9.99997973e-01  9.99993205e-01]\n",
      "  [-2.24901199e+00 -8.95352900e-01 -9.66382682e-01]\n",
      "  ...\n",
      "  [ 6.15565672e-01  1.66216911e+00  1.74981391e+00]\n",
      "  [ 7.99999390e+02  7.99996643e+02  7.99989075e+02]\n",
      "  [ 7.90977001e-01  6.98534846e-01  6.88058615e-01]]\n",
      "\n",
      " ...\n",
      "\n",
      " [[ 3.81469718e-08  7.62939464e-07  1.90734866e-07]\n",
      "  [ 9.99999821e-01  9.99999702e-01  9.99999821e-01]\n",
      "  [-1.80030942e+00 -2.46572351e+00 -2.05945110e+00]\n",
      "  ...\n",
      "  [-3.58116432e-01 -1.96461715e-01 -1.04789304e+00]\n",
      "  [ 7.99999695e+02  7.99999512e+02  7.99999756e+02]\n",
      "  [ 8.45387280e-01  8.44203472e-01  8.88461292e-01]]\n",
      "\n",
      " [[ 9.72747785e-06 -7.36236552e-06  0.00000000e+00]\n",
      "  [ 9.99993205e-01  9.99996305e-01  9.99999166e-01]\n",
      "  [-2.45942235e+00 -1.79740071e+00 -1.80430818e+00]\n",
      "  ...\n",
      "  [-7.02743311e-01 -1.15394338e+00 -1.43007295e+00]\n",
      "  [ 7.99989075e+02  7.99994080e+02  7.99998657e+02]\n",
      "  [ 8.41721773e-01  8.59338403e-01  9.04820859e-01]]\n",
      "\n",
      " [[ 1.90734859e-08  1.94549557e-06  1.54275898e-04]\n",
      "  [ 9.99998152e-01  9.99995470e-01  9.99980807e-01]\n",
      "  [-2.45901847e+00 -2.69084573e+00 -2.57890821e+00]\n",
      "  ...\n",
      "  [ 5.56191068e-02 -6.86853450e-01 -9.81886633e-01]\n",
      "  [ 7.99997070e+02  7.99992798e+02  7.99969421e+02]\n",
      "  [ 7.83714592e-01  8.40933204e-01  9.31131721e-01]]]\n",
      "(2284, 12, 3)\n"
     ]
    }
   ],
   "source": [
    "print(features_train_Grav)\n",
    "print(features_train_Grav.shape)"
   ]
  },
  {
   "cell_type": "markdown",
   "metadata": {},
   "source": [
    "Step: RE-SHAPING "
   ]
  },
  {
   "cell_type": "code",
   "execution_count": 86,
   "metadata": {
    "id": "_Oy3kkOTKSwR"
   },
   "outputs": [],
   "source": [
    "size_of_b=features_train_Acc.shape[1]*features_train_Acc.shape[2]"
   ]
  },
  {
   "cell_type": "code",
   "execution_count": 87,
   "metadata": {
    "id": "CTMASMV2cOev"
   },
   "outputs": [],
   "source": [
    "train_Acc = features_train_Acc.reshape(2284, size_of_b)         \n",
    "train_Grav = features_train_Grav.reshape(2284,size_of_b)\n",
    "train_Gyro = features_train_Gyro.reshape(2284,size_of_b)\n",
    "train_Jins_Acc = features_train_Jins_Acc.reshape(2284,size_of_b)\n",
    "train_Jins_Gyro = features_train_Jins_Gyro.reshape(2284,size_of_b)\n",
    "train_Linear_Acc = features_train_Linear_Acc.reshape(2284,size_of_b)\n",
    "train_MS_Acc = features_train_MS_Acc.reshape(2284,size_of_b)\n",
    "train_Mag = features_train_Mag.reshape(2284,size_of_b)\n",
    "train_MS_Gyro = features_train_MS_Gyro.reshape(2284,size_of_b)\n",
    "\n",
    "test_Acc = features_test_Acc.reshape(2288, size_of_b)        \n",
    "test_Grav = features_test_Grav.reshape(2288,size_of_b)\n",
    "test_Gyro = features_test_Gyro.reshape(2288,size_of_b)\n",
    "test_Jins_Acc = features_test_Jins_Acc.reshape(2288,size_of_b)\n",
    "test_Jins_Gyro = features_test_Jins_Gyro.reshape(2288,size_of_b)\n",
    "test_Linear_Acc = features_test_Linear_Acc.reshape(2288,size_of_b)\n",
    "test_MS_Acc = features_test_MS_Acc.reshape(2288,size_of_b)\n",
    "test_Mag = features_test_Mag.reshape(2288,size_of_b)\n",
    "test_MS_Gyro = features_test_MS_Gyro.reshape(2288,size_of_b)"
   ]
  },
  {
   "cell_type": "code",
   "execution_count": 52,
   "metadata": {
    "colab": {
     "base_uri": "https://localhost:8080/"
    },
    "id": "sTRbmQMLviWZ",
    "outputId": "d8b982a2-01f2-406e-e834-86339b0b01dc"
   },
   "outputs": [
    {
     "name": "stdout",
     "output_type": "stream",
     "text": [
      "[[-1.90734859e-08 -5.38825986e-07 -1.90734859e-08 ...  8.31634581e-01\n",
      "   6.22655213e-01  7.50476003e-01]\n",
      " [ 9.53674295e-09  2.98023224e-07 -1.90734859e-08 ...  7.94367731e-01\n",
      "   6.41088188e-01  7.90437996e-01]\n",
      " [ 3.81469718e-08 -4.30345523e-07  3.54290000e-06 ...  7.58214355e-01\n",
      "   7.63774693e-01  7.82240450e-01]\n",
      " ...\n",
      " [ 0.00000000e+00  8.58306919e-08  3.81469718e-08 ...  8.67835104e-01\n",
      "   6.40955687e-01  7.88789928e-01]\n",
      " [-2.72750844e-06 -2.08854681e-06  3.81469718e-08 ...  7.81304955e-01\n",
      "   7.83999383e-01  7.89975226e-01]\n",
      " [-3.05175774e-07 -1.90734863e-06  1.77502636e-06 ...  7.89063215e-01\n",
      "   8.00030947e-01  7.90963769e-01]]\n"
     ]
    }
   ],
   "source": [
    "print(train_Acc)"
   ]
  },
  {
   "cell_type": "markdown",
   "metadata": {},
   "source": [
    "OPTIONAL STEP: Applying feature selection Method"
   ]
  },
  {
   "cell_type": "code",
   "execution_count": 88,
   "metadata": {
    "id": "mqa0j4Gahai8"
   },
   "outputs": [],
   "source": [
    "def extractWindowFeatures(data_set):\n",
    "    featuredArray = np.zeros((data_set.shape[0]))\n",
    "    data_set = data_set.astype('float32')\n",
    "    mean = np.mean(data_set[:])           \n",
    "    std = np.std(data_set[:])             \n",
    "    min= np.min(data_set[:])\n",
    "    max= np.max(data_set[:])\n",
    "    mode, count = np.unique(data_set[:], return_counts=True)\n",
    "    first_mode = mode[np.argmax(count)]\n",
    "    variance = np.var(data_set[:])\n",
    "    energy = np.sum(data_set[:]**2)\n",
    "    dissimilarity = np.mean(np.abs(data_set[:] - mean))\n",
    "    channel_range = max-min\n",
    "    median = np.median(data_set[:])\n",
    "    featuredArray = [mean,std,min,max,channel_range,median,first_mode]\n",
    "    return np.array(featuredArray)"
   ]
  },
  {
   "cell_type": "markdown",
   "metadata": {},
   "source": [
    "CALCULATING SLIDING WINDOW FEATURES "
   ]
  },
  {
   "cell_type": "code",
   "execution_count": 54,
   "metadata": {
    "id": "0YXNo-PZO--Y"
   },
   "outputs": [],
   "source": [
    "#ASSUME\n",
    "window_size=12\n",
    "stride_size=3\n",
    "window_features=36\n",
    "def sliding_window_features(data_set, window_size, strideSize, one_win_feature):\n",
    "    samples = data_set.shape[0]                \n",
    "    num_features = data_set.shape[1]             \n",
    "    print(\"all features:\",num_features)\n",
    "    num_windows = int(((num_features - window_size) / strideSize) + 1)        \n",
    "    print(\"no of windows:\",num_windows)\n",
    "    new_data = np.zeros((samples, num_windows, one_win_feature))     \n",
    "    for j in range(samples):\n",
    "        for i in range(num_windows):    \n",
    "            start = i * strideSize\n",
    "            end = start + window_size\n",
    "            window = data_set[j, start:end]\n",
    "            features = extractWindowFeatures(window)\n",
    "            new_data[j, i,:] = np.array(features)\n",
    "    return new_data"
   ]
  },
  {
   "cell_type": "code",
   "execution_count": 55,
   "metadata": {
    "colab": {
     "base_uri": "https://localhost:8080/"
    },
    "id": "5ibu8o2ZO_Bq",
    "outputId": "88eee210-002a-4f7a-be07-cf5e1bdfc381"
   },
   "outputs": [
    {
     "name": "stdout",
     "output_type": "stream",
     "text": [
      "all features: 36\n",
      "no of windows: 3\n",
      "all features: 36\n",
      "no of windows: 3\n",
      "all features: 36\n",
      "no of windows: 3\n",
      "all features: 36\n",
      "no of windows: 3\n",
      "all features: 36\n",
      "no of windows: 3\n",
      "all features: 36\n",
      "no of windows: 3\n",
      "all features: 36\n",
      "no of windows: 3\n",
      "all features: 36\n",
      "no of windows: 3\n",
      "all features: 36\n",
      "no of windows: 3\n",
      "all features: 36\n",
      "no of windows: 3\n",
      "all features: 36\n",
      "no of windows: 3\n",
      "all features: 36\n",
      "no of windows: 3\n",
      "all features: 36\n",
      "no of windows: 3\n",
      "all features: 36\n",
      "no of windows: 3\n",
      "all features: 36\n",
      "no of windows: 3\n",
      "all features: 36\n",
      "no of windows: 3\n",
      "all features: 36\n",
      "no of windows: 3\n",
      "all features: 36\n",
      "no of windows: 3\n"
     ]
    }
   ],
   "source": [
    "window_size=13\n",
    "stride_size=9\n",
    "window_features=7\n",
    "\n",
    "updated_train_Acc = sliding_window_features(train_Acc,window_size,stride_size,window_features)\n",
    "updated_train_Grav = sliding_window_features(train_Grav,window_size,stride_size,window_features)\n",
    "updated_train_Gyro = sliding_window_features(train_Gyro,window_size,stride_size,window_features)\n",
    "updated_train_Jins_Acc = sliding_window_features(train_Jins_Acc,window_size,stride_size,window_features)\n",
    "updated_train_Jins_Gyro = sliding_window_features(train_Jins_Gyro,window_size,stride_size,window_features)\n",
    "updated_train_Linear_Acc = sliding_window_features(train_Linear_Acc,window_size,stride_size,window_features)\n",
    "updated_train_MS_Acc = sliding_window_features(train_MS_Acc,window_size,stride_size,window_features)\n",
    "updated_train_Mag = sliding_window_features(train_Mag,window_size,stride_size,window_features)\n",
    "updated_train_MS_Gyro = sliding_window_features(train_MS_Gyro,window_size,stride_size,window_features)\n",
    "\n",
    "updated_test_Acc = sliding_window_features(test_Acc,window_size,stride_size,window_features)\n",
    "updated_test_Grav = sliding_window_features(test_Grav,window_size,stride_size,window_features)\n",
    "updated_test_Gyro = sliding_window_features(test_Gyro,window_size,stride_size,window_features)\n",
    "updated_test_Jins_Acc = sliding_window_features(test_Jins_Acc,window_size,stride_size,window_features)\n",
    "updated_test_Jins_Gyro = sliding_window_features(test_Jins_Gyro,window_size,stride_size,window_features)\n",
    "updated_test_Linear_Acc = sliding_window_features(test_Linear_Acc,window_size,stride_size,window_features)\n",
    "updated_test_MS_Acc = sliding_window_features(test_MS_Acc,window_size,stride_size,window_features)\n",
    "updated_test_Mag = sliding_window_features(test_Mag,window_size,stride_size,window_features)\n",
    "updated_test_MS_Gyro = sliding_window_features(test_MS_Gyro,window_size,stride_size,window_features)\n",
    "\n"
   ]
  },
  {
   "cell_type": "markdown",
   "metadata": {},
   "source": [
    "PRINTING THE UPDATED SHAPES WE GOT"
   ]
  },
  {
   "cell_type": "code",
   "execution_count": 57,
   "metadata": {
    "colab": {
     "base_uri": "https://localhost:8080/"
    },
    "id": "JY41GRUCO_Fd",
    "outputId": "11addec5-2346-44ee-a01b-bbd211f20e1d"
   },
   "outputs": [
    {
     "name": "stdout",
     "output_type": "stream",
     "text": [
      "(2284, 3, 7)\n",
      "(2284, 3, 7)\n",
      "(2284, 3, 7)\n",
      "(2284, 3, 7)\n",
      "(2284, 3, 7)\n",
      "(2284, 3, 7)\n",
      "(2284, 3, 7)\n",
      "(2284, 3, 7)\n",
      "(2284, 3, 7)\n"
     ]
    }
   ],
   "source": [
    "print(updated_train_Acc.shape)\n",
    "print(updated_train_Grav.shape)\n",
    "print(updated_train_Gyro.shape)\n",
    "print(updated_train_Jins_Acc.shape)\n",
    "print(updated_train_Jins_Gyro.shape)\n",
    "print(updated_train_Linear_Acc.shape)\n",
    "print(updated_train_MS_Acc.shape)\n",
    "print(updated_train_Mag.shape)\n",
    "print(updated_train_MS_Gyro.shape)\n"
   ]
  },
  {
   "cell_type": "markdown",
   "metadata": {},
   "source": [
    "FINDIND THE LEARNED DATA BY RESHAPING"
   ]
  },
  {
   "cell_type": "code",
   "execution_count": 62,
   "metadata": {
    "id": "tFYj-nOmO_Ia"
   },
   "outputs": [],
   "source": [
    "\n",
    "rows = updated_train_Acc.shape[0]\n",
    "rows1 = updated_test_Acc.shape[0]\n",
    "cols = updated_train_Acc.shape[1] * updated_train_Acc.shape[2]\n",
    "learned_train_Acc = updated_train_Acc.reshape(rows,cols)\n",
    "learned_train_Grav = updated_train_Grav.reshape(rows,cols)\n",
    "learned_train_Gyro = updated_train_Gyro.reshape(rows,cols)\n",
    "learned_train_Jins_Acc = updated_train_Jins_Acc.reshape(rows,cols)\n",
    "learned_train_Jins_Gyro = updated_train_Jins_Gyro.reshape(rows,cols)\n",
    "learned_train_Linear_Acc = updated_train_Linear_Acc.reshape(rows,cols)\n",
    "learned_train_MS_Acc = updated_train_MS_Acc.reshape(rows,cols)\n",
    "learned_train_Mag = updated_train_Mag.reshape(rows,cols)\n",
    "learned_train_MS_Gyro = updated_train_MS_Gyro.reshape(rows,cols)\n",
    "\n",
    "learned_test_Acc = updated_test_Acc.reshape(rows1,cols)\n",
    "learned_test_Grav = updated_test_Grav.reshape(rows1,cols)\n",
    "learned_test_Gyro = updated_test_Gyro.reshape(rows1,cols)\n",
    "learned_test_Jins_Acc = updated_test_Jins_Acc.reshape(rows1,cols)\n",
    "learned_test_Jins_Gyro = updated_test_Jins_Gyro.reshape(rows1,cols)\n",
    "learned_test_Linear_Acc = updated_test_Linear_Acc.reshape(rows1,cols)\n",
    "learned_test_MS_Acc = updated_test_MS_Acc.reshape(rows1,cols)\n",
    "learned_test_Mag = updated_test_Mag.reshape(rows1,cols)\n",
    "learned_test_MS_Gyro = updated_test_MS_Gyro.reshape(rows1,cols)\n"
   ]
  },
  {
   "cell_type": "code",
   "execution_count": 63,
   "metadata": {
    "colab": {
     "base_uri": "https://localhost:8080/"
    },
    "id": "MTH14g8bwHnB",
    "outputId": "e65cae5f-31bc-48e5-b35e-930f5a45700d"
   },
   "outputs": [
    {
     "name": "stdout",
     "output_type": "stream",
     "text": [
      "(2284, 21)\n",
      "(2284, 21)\n",
      "(2284, 21)\n",
      "(2284, 21)\n",
      "(2284, 21)\n",
      "(2284, 21)\n",
      "(2284, 21)\n",
      "(2284, 21)\n",
      "(2284, 21)\n"
     ]
    }
   ],
   "source": [
    "print(learned_train_Acc.shape)\n",
    "print(learned_train_Grav.shape)\n",
    "print(learned_train_Gyro.shape)\n",
    "print(learned_train_Jins_Acc.shape)\n",
    "print(learned_train_Jins_Gyro.shape)\n",
    "print(learned_train_Linear_Acc.shape)\n",
    "print(learned_train_MS_Acc.shape)\n",
    "print(learned_train_Mag.shape)\n",
    "print(learned_train_MS_Gyro.shape)\n"
   ]
  },
  {
   "cell_type": "markdown",
   "metadata": {},
   "source": [
    "STEP: PERFORMING CONCATENNATION"
   ]
  },
  {
   "cell_type": "code",
   "execution_count": 65,
   "metadata": {
    "id": "Keysc9VzcOlL"
   },
   "outputs": [],
   "source": [
    "trainingExamples = np.concatenate([learned_train_Acc, learned_train_Grav, learned_train_Gyro, learned_train_Jins_Acc, learned_train_Jins_Gyro, learned_train_Linear_Acc, learned_train_MS_Acc, learned_train_Mag, learned_train_MS_Gyro], axis=1)\n",
    "testingExamples = np.concatenate([learned_test_Acc, learned_test_Grav, learned_test_Gyro, learned_test_Jins_Acc, learned_test_Jins_Gyro, learned_test_Linear_Acc, learned_test_MS_Acc, learned_test_Mag, learned_test_MS_Gyro], axis=1)"
   ]
  },
  {
   "cell_type": "code",
   "execution_count": 66,
   "metadata": {
    "colab": {
     "base_uri": "https://localhost:8080/"
    },
    "id": "cKDEh40s6rNk",
    "outputId": "19f99e28-f4e5-4885-e068-076f391634af"
   },
   "outputs": [
    {
     "name": "stdout",
     "output_type": "stream",
     "text": [
      "(2284, 189)\n",
      "(2288, 189)\n",
      "(2284,)\n",
      "(2288,)\n"
     ]
    }
   ],
   "source": [
    "print(trainingExamples.shape)\n",
    "print(testingExamples.shape)\n",
    "\n",
    "print(train_labels.shape)\n",
    "print(test_labels.shape)"
   ]
  },
  {
   "cell_type": "code",
   "execution_count": 67,
   "metadata": {
    "colab": {
     "base_uri": "https://localhost:8080/"
    },
    "id": "SFjU8gUKQWTZ",
    "outputId": "bd776ea5-46d7-4a6b-f345-2de5ef97b213"
   },
   "outputs": [
    {
     "name": "stdout",
     "output_type": "stream",
     "text": [
      "[[ 8.29787493e-01  2.87281442e+00 -3.62664533e+00 ...  2.69586151e+02\n",
      "   3.27868462e-01  1.00000000e+00]\n",
      " [ 6.95499361e-01  2.64112425e+00 -3.25087380e+00 ...  2.69227448e+02\n",
      "   4.28280711e-01  1.00000000e+00]\n",
      " [ 6.63221776e-01  2.70941973e+00 -3.90126562e+00 ...  2.68779938e+02\n",
      "   7.10507035e-01  1.00000000e+00]\n",
      " ...\n",
      " [ 7.93749273e-01  2.43423414e+00 -2.96235919e+00 ...  2.69514160e+02\n",
      "   2.66579598e-01  1.00000000e+00]\n",
      " [ 7.56847739e-01  2.95578241e+00 -3.66438007e+00 ...  2.69016327e+02\n",
      "   1.00000000e+00  1.00000000e+00]\n",
      " [ 8.10972571e-01  2.85884905e+00 -3.26940370e+00 ...  2.68200317e+02\n",
      "   1.00000000e+00  1.00000000e+00]]\n"
     ]
    }
   ],
   "source": [
    "print(trainingExamples)  #total 324 feature total 2284 examples. "
   ]
  },
  {
   "cell_type": "code",
   "execution_count": 68,
   "metadata": {
    "colab": {
     "base_uri": "https://localhost:8080/"
    },
    "id": "Unvy8fpkQZ6r",
    "outputId": "5ba02083-3593-4aaf-b930-867d76bb8a55"
   },
   "outputs": [
    {
     "name": "stdout",
     "output_type": "stream",
     "text": [
      "[[ 4.96101528e-01  2.09459519e+00 -3.54206991e+00 ...  2.69446869e+02\n",
      "   9.99999881e-01  1.00000000e+00]\n",
      " [ 7.30624139e-01  2.96939731e+00 -4.37171412e+00 ...  2.69857452e+02\n",
      "   4.66041803e-01  1.00000000e+00]\n",
      " [ 5.56988776e-01  2.42999840e+00 -3.16152024e+00 ...  2.69088531e+02\n",
      "   1.00000000e+00  1.00000000e+00]\n",
      " ...\n",
      " [ 8.35240722e-01  2.81676745e+00 -3.68504286e+00 ...  2.69994171e+02\n",
      "   9.99999881e-01  1.00000000e+00]\n",
      " [ 3.77928227e-01  3.48795199e+00 -5.63139391e+00 ...  2.70991028e+02\n",
      "   9.99999881e-01  1.00000012e+00]\n",
      " [ 6.61452234e-01  2.81899571e+00 -3.88171077e+00 ...  2.68493134e+02\n",
      "   2.28938386e-01  1.00000000e+00]]\n"
     ]
    }
   ],
   "source": [
    "print(testingExamples)"
   ]
  },
  {
   "cell_type": "markdown",
   "metadata": {
    "id": "cHpzPOJ6U9Kk"
   },
   "source": [
    "STEP: PERFORMING SVM"
   ]
  },
  {
   "cell_type": "code",
   "execution_count": 77,
   "metadata": {
    "colab": {
     "base_uri": "https://localhost:8080/"
    },
    "id": "x0jGXrwA62XO",
    "outputId": "03401b1b-bd61-4a58-d5a3-0103b97b111f"
   },
   "outputs": [
    {
     "data": {
      "text/html": [
       "<style>#sk-container-id-2 {color: black;background-color: white;}#sk-container-id-2 pre{padding: 0;}#sk-container-id-2 div.sk-toggleable {background-color: white;}#sk-container-id-2 label.sk-toggleable__label {cursor: pointer;display: block;width: 100%;margin-bottom: 0;padding: 0.3em;box-sizing: border-box;text-align: center;}#sk-container-id-2 label.sk-toggleable__label-arrow:before {content: \"▸\";float: left;margin-right: 0.25em;color: #696969;}#sk-container-id-2 label.sk-toggleable__label-arrow:hover:before {color: black;}#sk-container-id-2 div.sk-estimator:hover label.sk-toggleable__label-arrow:before {color: black;}#sk-container-id-2 div.sk-toggleable__content {max-height: 0;max-width: 0;overflow: hidden;text-align: left;background-color: #f0f8ff;}#sk-container-id-2 div.sk-toggleable__content pre {margin: 0.2em;color: black;border-radius: 0.25em;background-color: #f0f8ff;}#sk-container-id-2 input.sk-toggleable__control:checked~div.sk-toggleable__content {max-height: 200px;max-width: 100%;overflow: auto;}#sk-container-id-2 input.sk-toggleable__control:checked~label.sk-toggleable__label-arrow:before {content: \"▾\";}#sk-container-id-2 div.sk-estimator input.sk-toggleable__control:checked~label.sk-toggleable__label {background-color: #d4ebff;}#sk-container-id-2 div.sk-label input.sk-toggleable__control:checked~label.sk-toggleable__label {background-color: #d4ebff;}#sk-container-id-2 input.sk-hidden--visually {border: 0;clip: rect(1px 1px 1px 1px);clip: rect(1px, 1px, 1px, 1px);height: 1px;margin: -1px;overflow: hidden;padding: 0;position: absolute;width: 1px;}#sk-container-id-2 div.sk-estimator {font-family: monospace;background-color: #f0f8ff;border: 1px dotted black;border-radius: 0.25em;box-sizing: border-box;margin-bottom: 0.5em;}#sk-container-id-2 div.sk-estimator:hover {background-color: #d4ebff;}#sk-container-id-2 div.sk-parallel-item::after {content: \"\";width: 100%;border-bottom: 1px solid gray;flex-grow: 1;}#sk-container-id-2 div.sk-label:hover label.sk-toggleable__label {background-color: #d4ebff;}#sk-container-id-2 div.sk-serial::before {content: \"\";position: absolute;border-left: 1px solid gray;box-sizing: border-box;top: 0;bottom: 0;left: 50%;z-index: 0;}#sk-container-id-2 div.sk-serial {display: flex;flex-direction: column;align-items: center;background-color: white;padding-right: 0.2em;padding-left: 0.2em;position: relative;}#sk-container-id-2 div.sk-item {position: relative;z-index: 1;}#sk-container-id-2 div.sk-parallel {display: flex;align-items: stretch;justify-content: center;background-color: white;position: relative;}#sk-container-id-2 div.sk-item::before, #sk-container-id-2 div.sk-parallel-item::before {content: \"\";position: absolute;border-left: 1px solid gray;box-sizing: border-box;top: 0;bottom: 0;left: 50%;z-index: -1;}#sk-container-id-2 div.sk-parallel-item {display: flex;flex-direction: column;z-index: 1;position: relative;background-color: white;}#sk-container-id-2 div.sk-parallel-item:first-child::after {align-self: flex-end;width: 50%;}#sk-container-id-2 div.sk-parallel-item:last-child::after {align-self: flex-start;width: 50%;}#sk-container-id-2 div.sk-parallel-item:only-child::after {width: 0;}#sk-container-id-2 div.sk-dashed-wrapped {border: 1px dashed gray;margin: 0 0.4em 0.5em 0.4em;box-sizing: border-box;padding-bottom: 0.4em;background-color: white;}#sk-container-id-2 div.sk-label label {font-family: monospace;font-weight: bold;display: inline-block;line-height: 1.2em;}#sk-container-id-2 div.sk-label-container {text-align: center;}#sk-container-id-2 div.sk-container {/* jupyter's `normalize.less` sets `[hidden] { display: none; }` but bootstrap.min.css set `[hidden] { display: none !important; }` so we also need the `!important` here to be able to override the default hidden behavior on the sphinx rendered scikit-learn.org. See: https://github.com/scikit-learn/scikit-learn/issues/21755 */display: inline-block !important;position: relative;}#sk-container-id-2 div.sk-text-repr-fallback {display: none;}</style><div id=\"sk-container-id-2\" class=\"sk-top-container\"><div class=\"sk-text-repr-fallback\"><pre>SVC(C=1, gamma=&#x27;auto&#x27;)</pre><b>In a Jupyter environment, please rerun this cell to show the HTML representation or trust the notebook. <br />On GitHub, the HTML representation is unable to render, please try loading this page with nbviewer.org.</b></div><div class=\"sk-container\" hidden><div class=\"sk-item\"><div class=\"sk-estimator sk-toggleable\"><input class=\"sk-toggleable__control sk-hidden--visually\" id=\"sk-estimator-id-2\" type=\"checkbox\" checked><label for=\"sk-estimator-id-2\" class=\"sk-toggleable__label sk-toggleable__label-arrow\">SVC</label><div class=\"sk-toggleable__content\"><pre>SVC(C=1, gamma=&#x27;auto&#x27;)</pre></div></div></div></div></div>"
      ],
      "text/plain": [
       "SVC(C=1, gamma='auto')"
      ]
     },
     "execution_count": 77,
     "metadata": {},
     "output_type": "execute_result"
    }
   ],
   "source": [
    "from sklearn import svm\n",
    "\n",
    "clf = svm.SVC(C=1, gamma='auto')\n",
    "clf.fit(trainingExamples, train_labels)\n"
   ]
  },
  {
   "cell_type": "code",
   "execution_count": 78,
   "metadata": {
    "id": "oYbEIPP1_lZN"
   },
   "outputs": [],
   "source": [
    "y_pred = clf.predict(testingExamples)"
   ]
  },
  {
   "cell_type": "code",
   "execution_count": 79,
   "metadata": {
    "colab": {
     "base_uri": "https://localhost:8080/"
    },
    "id": "UTEAHDQROpic",
    "outputId": "00dce021-3629-4e27-a489-d39cd8f80437"
   },
   "outputs": [
    {
     "name": "stdout",
     "output_type": "stream",
     "text": [
      "[17 45 24 ... 50 21 28]\n"
     ]
    }
   ],
   "source": [
    "print(y_pred)"
   ]
  },
  {
   "cell_type": "markdown",
   "metadata": {},
   "source": [
    "STEP: Using evaluation methods like confusion matrix, accuracy, Average F1 score etc."
   ]
  },
  {
   "cell_type": "code",
   "execution_count": 81,
   "metadata": {
    "colab": {
     "base_uri": "https://localhost:8080/"
    },
    "id": "GmST65y8K_-6",
    "outputId": "9626a4ab-52e2-4da5-c8e2-250c45adf379"
   },
   "outputs": [
    {
     "name": "stdout",
     "output_type": "stream",
     "text": [
      "*************RESULTS FOR SVM************************\n",
      "   C = 1.0 \n",
      "   Average F1-score = 0.2168\n",
      "   Test accuracy = 22.90 %\n",
      "   Weighted F1-score = 0.2211\n",
      "   All F1-scores:\n",
      "[0.63829787 0.32142857 0.21505376 0.21276596 0.19672131 0.08791209\n",
      " 0.04938272 0.06382979 0.1369863  0.         0.19753086 0.23076923\n",
      " 0.78873239 0.1971831  0.30769231 0.52941176 0.17142857 0.44444444\n",
      " 0.16438356 0.07692308 0.08247423 0.06593407 0.02898551 0.22680412\n",
      " 0.12844037 0.12903226 0.19753086 0.10169492 0.175      0.175\n",
      " 0.21276596 0.20779221 0.03571429 0.33333333 0.10434783 0.12307692\n",
      " 0.4        0.08333333 0.23404255 0.48351648 0.4556962  0.53521127\n",
      " 0.4047619  0.20895522 0.16393443 0.08       0.05263158 0.06779661\n",
      " 0.27350427 0.15189873 0.08247423 0.32876712 0.15       0.27027027\n",
      " 0.14084507]\n",
      "   Confusion Matrix:\n",
      "[[30  2  1 ...  0  0  0]\n",
      " [ 1 18  8 ...  0  2  0]\n",
      " [ 3  7 10 ...  0  0  0]\n",
      " ...\n",
      " [ 1  1  0 ...  6  0  0]\n",
      " [ 0  0  2 ...  0 10  0]\n",
      " [ 0  0  0 ...  0  0  5]]\n",
      "-------------------------------------------------------\n"
     ]
    }
   ],
   "source": [
    "from sklearn.metrics import confusion_matrix, accuracy_score, f1_score\n",
    "confusion = confusion_matrix(test_labels, y_pred)\n",
    "print('*************RESULTS FOR SVM************************')\n",
    "\n",
    "\n",
    "accuracy = accuracy_score(test_labels,y_pred)\n",
    "weightedF1 = f1_score(test_labels,y_pred,average='weighted')\n",
    "averageF1 = f1_score(test_labels,y_pred,average='macro')\n",
    "allF1Scores = f1_score(test_labels,y_pred,average=None)\n",
    "confuse_matrix = confusion_matrix(test_labels,y_pred)\n",
    "\n",
    "\n",
    "# Print results\n",
    "print('   C = 1.0 ')\n",
    "print('   Average F1-score = %.4f' % (averageF1))\n",
    "print('   Test accuracy = %.2f %%' % (accuracy*100))\n",
    "print('   Weighted F1-score = %.4f' % (weightedF1))\n",
    "print('   All F1-scores:')\n",
    "print(allF1Scores)\n",
    "print('   Confusion Matrix:')\n",
    "print(confuse_matrix)\n",
    "\n",
    "\n",
    "print('-------------------------------------------------------')"
   ]
  },
  {
   "cell_type": "code",
   "execution_count": 49,
   "metadata": {
    "colab": {
     "base_uri": "https://localhost:8080/"
    },
    "id": "21C5WqSX3gXl",
    "outputId": "880a9744-278a-429b-cf4d-5790d41769e2"
   },
   "outputs": [
    {
     "name": "stdout",
     "output_type": "stream",
     "text": [
      "0.6492994746059545\n"
     ]
    }
   ],
   "source": [
    "y_pred = clf.predict(trainingExamples)\n",
    "train_accuracy = accuracy_score(train_labels,y_pred)\n",
    "print(train_accuracy)"
   ]
  },
  {
   "cell_type": "markdown",
   "metadata": {},
   "source": [
    "OPTIONAL STEP : Another multi-class classification method for comparisoN"
   ]
  },
  {
   "cell_type": "markdown",
   "metadata": {},
   "source": [
    "PERFORMING LOGISTIC REGRESSION FOR COMPARISON"
   ]
  },
  {
   "cell_type": "code",
   "execution_count": 74,
   "metadata": {},
   "outputs": [
    {
     "name": "stdout",
     "output_type": "stream",
     "text": [
      "Logistic Regression Results:\n",
      "   Average F1-score = 0.3029\n",
      "   Test accuracy = 30.38 %\n",
      "   Weighted F1-score = 0.3032\n",
      "   All F1-scores:\n",
      "[0.61333333 0.34951456 0.28282828 0.22680412 0.2        0.13513514\n",
      " 0.13953488 0.26804124 0.12121212 0.2173913  0.175      0.27956989\n",
      " 0.88607595 0.32608696 0.38095238 0.68817204 0.41558442 0.55319149\n",
      " 0.15909091 0.25       0.18181818 0.18947368 0.14084507 0.37333333\n",
      " 0.17204301 0.34146341 0.26804124 0.02380952 0.23376623 0.1627907\n",
      " 0.2        0.1971831  0.24324324 0.36781609 0.15909091 0.24096386\n",
      " 0.41463415 0.28571429 0.45238095 0.66666667 0.69879518 0.69767442\n",
      " 0.37837838 0.20895522 0.27586207 0.1627907  0.12765957 0.10810811\n",
      " 0.22222222 0.30588235 0.29545455 0.46511628 0.17391304 0.35616438\n",
      " 0.1978022 ]\n",
      "   Confusion Matrix:\n",
      "[[23  4  2 ...  0  2  0]\n",
      " [ 1 18  8 ...  1  0  0]\n",
      " [ 0  5 14 ...  0  2  0]\n",
      " ...\n",
      " [ 0  1  0 ...  8  0  0]\n",
      " [ 0  0  1 ...  0 13  0]\n",
      " [ 0  0  0 ...  0  0  9]]\n",
      "-------------------------------------------------------\n"
     ]
    }
   ],
   "source": [
    "from sklearn.linear_model import LogisticRegression\n",
    "from sklearn.preprocessing import StandardScaler\n",
    "from sklearn.metrics import confusion_matrix, accuracy_score, f1_score\n",
    "\n",
    "# Scale the data\n",
    "scaler = StandardScaler()\n",
    "scaled_trainingExamples = scaler.fit_transform(trainingExamples)\n",
    "scaled_testingExamples = scaler.transform(testingExamples)\n",
    "\n",
    "# Create logistic regression classifier with increased max_iter, regularization, and a different solver\n",
    "clf = LogisticRegression(max_iter=2284, solver='saga', penalty='l2', C=1.0)\n",
    "clf.fit(scaled_trainingExamples, train_labels)\n",
    "y_pred = clf.predict(scaled_testingExamples)\n",
    "\n",
    "# Compute evaluation metrics\n",
    "confusion = confusion_matrix(test_labels, y_pred)\n",
    "accuracy = accuracy_score(test_labels, y_pred)\n",
    "weightedF1 = f1_score(test_labels, y_pred, average='weighted')\n",
    "averageF1 = f1_score(test_labels, y_pred, average='macro')\n",
    "allF1Scores = f1_score(test_labels, y_pred, average=None)\n",
    "\n",
    "# Print results\n",
    "print('Logistic Regression Results:')\n",
    "print('   Average F1-score = %.4f' % averageF1)\n",
    "print('   Test accuracy = %.2f %%' % (accuracy * 100))\n",
    "print('   Weighted F1-score = %.4f' % weightedF1)\n",
    "print('   All F1-scores:')\n",
    "print(allF1Scores)\n",
    "print('   Confusion Matrix:')\n",
    "print(confusion)\n",
    "print('-------------------------------------------------------')\n"
   ]
  },
  {
   "cell_type": "markdown",
   "metadata": {},
   "source": [
    "STEP: EXPERIMENTS WITH C-VALUE AND KERNALS:"
   ]
  },
  {
   "cell_type": "markdown",
   "metadata": {},
   "source": [
    "APPLY GAUSSAIN KERNAL and C=0.00005"
   ]
  },
  {
   "cell_type": "code",
   "execution_count": 83,
   "metadata": {},
   "outputs": [
    {
     "name": "stdout",
     "output_type": "stream",
     "text": [
      "*************RESULTS FOR SVM with Gassuain kernal and C=0.00005    ************************\n",
      "   C = 0.00005 \n",
      "   Average F1-score = 0.0022\n",
      "   Test accuracy = 3.15 %\n",
      "   Weighted F1-score = 0.0023\n",
      "   All F1-scores:\n",
      "[0.         0.         0.         0.         0.06373816 0.\n",
      " 0.         0.         0.         0.         0.         0.\n",
      " 0.         0.         0.         0.         0.         0.\n",
      " 0.         0.         0.         0.         0.         0.\n",
      " 0.05761317 0.         0.         0.         0.         0.\n",
      " 0.         0.         0.         0.         0.         0.\n",
      " 0.         0.         0.         0.         0.         0.\n",
      " 0.         0.         0.         0.         0.         0.\n",
      " 0.         0.         0.         0.         0.         0.\n",
      " 0.        ]\n",
      "   Confusion Matrix:\n",
      "[[0 0 0 ... 0 0 0]\n",
      " [0 0 0 ... 0 0 0]\n",
      " [0 0 0 ... 0 0 0]\n",
      " ...\n",
      " [0 0 0 ... 0 0 0]\n",
      " [0 0 0 ... 0 0 0]\n",
      " [0 0 0 ... 0 0 0]]\n",
      "-------------------------------------------------------\n"
     ]
    }
   ],
   "source": [
    "from sklearn import svm\n",
    "from sklearn.metrics import confusion_matrix, accuracy_score, f1_score\n",
    "clf = svm.SVC(C=0.00005, kernel='rbf', gamma='auto')\n",
    "clf.fit(trainingExamples, train_labels)\n",
    "y_pred = clf.predict(testingExamples)\n",
    "\n",
    "confusion = confusion_matrix(test_labels, y_pred)\n",
    "print('*************RESULTS FOR SVM with Gassuain kernal and C=0.00005    ************************')\n",
    "\n",
    "\n",
    "accuracy = accuracy_score(test_labels,y_pred)\n",
    "weightedF1 = f1_score(test_labels,y_pred,average='weighted')\n",
    "averageF1 = f1_score(test_labels,y_pred,average='macro')\n",
    "allF1Scores = f1_score(test_labels,y_pred,average=None)\n",
    "confuse_matrix = confusion_matrix(test_labels,y_pred)\n",
    "\n",
    "\n",
    "# Print results\n",
    "print('   C = 0.00005 ')\n",
    "print('   Average F1-score = %.4f' % (averageF1))\n",
    "print('   Test accuracy = %.2f %%' % (accuracy*100))\n",
    "print('   Weighted F1-score = %.4f' % (weightedF1))\n",
    "print('   All F1-scores:')\n",
    "print(allF1Scores)\n",
    "print('   Confusion Matrix:')\n",
    "print(confuse_matrix)\n",
    "\n",
    "\n",
    "print('-------------------------------------------------------')"
   ]
  },
  {
   "cell_type": "markdown",
   "metadata": {},
   "source": [
    "EXPERIMENT-02"
   ]
  },
  {
   "cell_type": "markdown",
   "metadata": {},
   "source": [
    "APPLY GAUSSAIN KERNAL and C=100000"
   ]
  },
  {
   "cell_type": "code",
   "execution_count": 84,
   "metadata": {},
   "outputs": [
    {
     "name": "stdout",
     "output_type": "stream",
     "text": [
      "*************RESULTS FOR SVM with Gassuain kernal and C=100000    ************************\n",
      "   C = 100000 \n",
      "   Average F1-score = 0.2410\n",
      "   Test accuracy = 24.78 %\n",
      "   Weighted F1-score = 0.2438\n",
      "   All F1-scores:\n",
      "[0.59574468 0.34782609 0.20930233 0.24489796 0.24299065 0.12195122\n",
      " 0.02469136 0.06451613 0.09756098 0.16666667 0.14457831 0.27956989\n",
      " 0.84507042 0.22222222 0.38554217 0.52525253 0.21212121 0.49484536\n",
      " 0.15384615 0.10958904 0.08108108 0.11494253 0.08955224 0.21590909\n",
      " 0.14634146 0.12121212 0.19469027 0.13333333 0.15       0.12765957\n",
      " 0.32258065 0.26666667 0.09375    0.46938776 0.09756098 0.10810811\n",
      " 0.43298969 0.08571429 0.32608696 0.53333333 0.49350649 0.54054054\n",
      " 0.27027027 0.21212121 0.26315789 0.05714286 0.13333333 0.12820513\n",
      " 0.29545455 0.17721519 0.1025641  0.41975309 0.10810811 0.36923077\n",
      " 0.08219178]\n",
      "   Confusion Matrix:\n",
      "[[28  2  1 ...  0  0  0]\n",
      " [ 1 20  9 ...  0  2  0]\n",
      " [ 3 11  9 ...  0  0  0]\n",
      " ...\n",
      " [ 0  2  0 ...  4  0  1]\n",
      " [ 0  0  2 ...  0 12  0]\n",
      " [ 0  0  0 ...  0  0  3]]\n",
      "-------------------------------------------------------\n"
     ]
    }
   ],
   "source": [
    "from sklearn import svm\n",
    "from sklearn.metrics import confusion_matrix, accuracy_score, f1_score\n",
    "clf = svm.SVC(C=100000, kernel='rbf', gamma='auto')\n",
    "clf.fit(trainingExamples, train_labels)\n",
    "y_pred = clf.predict(testingExamples)\n",
    "\n",
    "confusion = confusion_matrix(test_labels, y_pred)\n",
    "print('*************RESULTS FOR SVM with Gassuain kernal and C=100000    ************************')\n",
    "\n",
    "\n",
    "accuracy = accuracy_score(test_labels,y_pred)\n",
    "weightedF1 = f1_score(test_labels,y_pred,average='weighted')\n",
    "averageF1 = f1_score(test_labels,y_pred,average='macro')\n",
    "allF1Scores = f1_score(test_labels,y_pred,average=None)\n",
    "confuse_matrix = confusion_matrix(test_labels,y_pred)\n",
    "\n",
    "\n",
    "# Print results\n",
    "print('   C = 100000 ')\n",
    "print('   Average F1-score = %.4f' % (averageF1))\n",
    "print('   Test accuracy = %.2f %%' % (accuracy*100))\n",
    "print('   Weighted F1-score = %.4f' % (weightedF1))\n",
    "print('   All F1-scores:')\n",
    "print(allF1Scores)\n",
    "print('   Confusion Matrix:')\n",
    "print(confuse_matrix)\n",
    "\n",
    "\n",
    "print('-------------------------------------------------------')"
   ]
  }
 ],
 "metadata": {
  "accelerator": "GPU",
  "colab": {
   "provenance": []
  },
  "gpuClass": "standard",
  "kernelspec": {
   "display_name": "Python 3 (ipykernel)",
   "language": "python",
   "name": "python3"
  },
  "language_info": {
   "codemirror_mode": {
    "name": "ipython",
    "version": 3
   },
   "file_extension": ".py",
   "mimetype": "text/x-python",
   "name": "python",
   "nbconvert_exporter": "python",
   "pygments_lexer": "ipython3",
   "version": "3.11.4"
  }
 },
 "nbformat": 4,
 "nbformat_minor": 4
}
